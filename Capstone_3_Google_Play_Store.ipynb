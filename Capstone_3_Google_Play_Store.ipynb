{
  "nbformat": 4,
  "nbformat_minor": 0,
  "metadata": {
    "colab": {
      "name": "Capstone 3: Google Play Store.ipynb",
      "provenance": [],
      "collapsed_sections": [],
      "toc_visible": true,
      "authorship_tag": "ABX9TyMPOzDsNPnDhfOVgo83IiCU",
      "include_colab_link": true
    },
    "kernelspec": {
      "name": "python3",
      "display_name": "Python 3"
    }
  },
  "cells": [
    {
      "cell_type": "markdown",
      "metadata": {
        "id": "view-in-github",
        "colab_type": "text"
      },
      "source": [
        "<a href=\"https://colab.research.google.com/github/camrespicio/Google-Play-Store---App-Research/blob/main/Capstone_3_Google_Play_Store.ipynb\" target=\"_parent\"><img src=\"https://colab.research.google.com/assets/colab-badge.svg\" alt=\"Open In Colab\"/></a>"
      ]
    },
    {
      "cell_type": "markdown",
      "metadata": {
        "id": "HnPub2s1bbI9"
      },
      "source": [
        "# Google Play Store - App Research\n",
        "\n",
        "The purpose of this notebook is to determine if there are any characteristics of mobile apps that have standalone influence on how the end users rate applications in the Google Play Store. This is meant to benefit tech companies and app developers that primarily distribute their platforms via mobile app. They could use the results of this research to guide their decision on the types of applications they build now or in the future. "
      ]
    },
    {
      "cell_type": "code",
      "metadata": {
        "colab": {
          "base_uri": "https://localhost:8080/",
          "height": 221
        },
        "id": "UEMQTsrAiBCw",
        "outputId": "d7e929a0-c231-4ac0-fef0-d487cb624a8d"
      },
      "source": [
        "import pandas as pd\n",
        "import seaborn as sns\n",
        "import math\n",
        "from scipy import stats\n",
        "from google.colab import drive\n",
        "drive.mount('/content/gdrive')\n",
        "\n",
        "# There is a item in the Size column that does not conform to the bucket type, so it is being converted to a null value to be removed later.\n",
        "\n",
        "raw_df = pd.read_csv('/content/gdrive/My Drive/Colab Datasets/googleplaystore.csv', na_values = ['Varies with device'])\n",
        "raw_df.head()"
      ],
      "execution_count": null,
      "outputs": [
        {
          "output_type": "stream",
          "text": [
            "Drive already mounted at /content/gdrive; to attempt to forcibly remount, call drive.mount(\"/content/gdrive\", force_remount=True).\n"
          ],
          "name": "stdout"
        },
        {
          "output_type": "execute_result",
          "data": {
            "text/html": [
              "<div>\n",
              "<style scoped>\n",
              "    .dataframe tbody tr th:only-of-type {\n",
              "        vertical-align: middle;\n",
              "    }\n",
              "\n",
              "    .dataframe tbody tr th {\n",
              "        vertical-align: top;\n",
              "    }\n",
              "\n",
              "    .dataframe thead th {\n",
              "        text-align: right;\n",
              "    }\n",
              "</style>\n",
              "<table border=\"1\" class=\"dataframe\">\n",
              "  <thead>\n",
              "    <tr style=\"text-align: right;\">\n",
              "      <th></th>\n",
              "      <th>App</th>\n",
              "      <th>Category</th>\n",
              "      <th>Rating</th>\n",
              "      <th>Reviews</th>\n",
              "      <th>Size</th>\n",
              "      <th>Installs</th>\n",
              "      <th>Type</th>\n",
              "      <th>Price</th>\n",
              "      <th>Content Rating</th>\n",
              "      <th>Genres</th>\n",
              "      <th>Last Updated</th>\n",
              "      <th>Current Ver</th>\n",
              "      <th>Android Ver</th>\n",
              "    </tr>\n",
              "  </thead>\n",
              "  <tbody>\n",
              "    <tr>\n",
              "      <th>0</th>\n",
              "      <td>Photo Editor &amp; Candy Camera &amp; Grid &amp; ScrapBook</td>\n",
              "      <td>ART_AND_DESIGN</td>\n",
              "      <td>4.1</td>\n",
              "      <td>159</td>\n",
              "      <td>19M</td>\n",
              "      <td>10,000+</td>\n",
              "      <td>Free</td>\n",
              "      <td>0.0</td>\n",
              "      <td>Everyone</td>\n",
              "      <td>Art &amp; Design</td>\n",
              "      <td>7-Jan-18</td>\n",
              "      <td>1.0.0</td>\n",
              "      <td>4.0.3 and up</td>\n",
              "    </tr>\n",
              "    <tr>\n",
              "      <th>1</th>\n",
              "      <td>Coloring book moana</td>\n",
              "      <td>ART_AND_DESIGN</td>\n",
              "      <td>3.9</td>\n",
              "      <td>967</td>\n",
              "      <td>14M</td>\n",
              "      <td>500,000+</td>\n",
              "      <td>Free</td>\n",
              "      <td>0.0</td>\n",
              "      <td>Everyone</td>\n",
              "      <td>Art &amp; Design;Pretend Play</td>\n",
              "      <td>15-Jan-18</td>\n",
              "      <td>2.0.0</td>\n",
              "      <td>4.0.3 and up</td>\n",
              "    </tr>\n",
              "    <tr>\n",
              "      <th>2</th>\n",
              "      <td>U Launcher Lite – FREE Live Cool Themes, Hide ...</td>\n",
              "      <td>ART_AND_DESIGN</td>\n",
              "      <td>4.7</td>\n",
              "      <td>87510</td>\n",
              "      <td>8.7M</td>\n",
              "      <td>5,000,000+</td>\n",
              "      <td>Free</td>\n",
              "      <td>0.0</td>\n",
              "      <td>Everyone</td>\n",
              "      <td>Art &amp; Design</td>\n",
              "      <td>1-Aug-18</td>\n",
              "      <td>1.2.4</td>\n",
              "      <td>4.0.3 and up</td>\n",
              "    </tr>\n",
              "    <tr>\n",
              "      <th>3</th>\n",
              "      <td>Sketch - Draw &amp; Paint</td>\n",
              "      <td>ART_AND_DESIGN</td>\n",
              "      <td>4.5</td>\n",
              "      <td>215644</td>\n",
              "      <td>25M</td>\n",
              "      <td>50,000,000+</td>\n",
              "      <td>Free</td>\n",
              "      <td>0.0</td>\n",
              "      <td>Teen</td>\n",
              "      <td>Art &amp; Design</td>\n",
              "      <td>8-Jun-18</td>\n",
              "      <td>NaN</td>\n",
              "      <td>4.2 and up</td>\n",
              "    </tr>\n",
              "    <tr>\n",
              "      <th>4</th>\n",
              "      <td>Pixel Draw - Number Art Coloring Book</td>\n",
              "      <td>ART_AND_DESIGN</td>\n",
              "      <td>4.3</td>\n",
              "      <td>967</td>\n",
              "      <td>2.8M</td>\n",
              "      <td>100,000+</td>\n",
              "      <td>Free</td>\n",
              "      <td>0.0</td>\n",
              "      <td>Everyone</td>\n",
              "      <td>Art &amp; Design;Creativity</td>\n",
              "      <td>20-Jun-18</td>\n",
              "      <td>1.1</td>\n",
              "      <td>4.4 and up</td>\n",
              "    </tr>\n",
              "  </tbody>\n",
              "</table>\n",
              "</div>"
            ],
            "text/plain": [
              "                                                 App  ...   Android Ver\n",
              "0     Photo Editor & Candy Camera & Grid & ScrapBook  ...  4.0.3 and up\n",
              "1                                Coloring book moana  ...  4.0.3 and up\n",
              "2  U Launcher Lite – FREE Live Cool Themes, Hide ...  ...  4.0.3 and up\n",
              "3                              Sketch - Draw & Paint  ...    4.2 and up\n",
              "4              Pixel Draw - Number Art Coloring Book  ...    4.4 and up\n",
              "\n",
              "[5 rows x 13 columns]"
            ]
          },
          "metadata": {
            "tags": []
          },
          "execution_count": 1
        }
      ]
    },
    {
      "cell_type": "markdown",
      "metadata": {
        "id": "yCqFuE7GgG-_"
      },
      "source": [
        "Of the data in this dataset, I will test for app categories, file sizes, and the prices. I will determine if there is any significant difference in an app's average score based on any change to the characteristics listed above. First, I will isolate the three columns of interest along with the Rating column to eliminate any clutter."
      ]
    },
    {
      "cell_type": "code",
      "metadata": {
        "colab": {
          "base_uri": "https://localhost:8080/",
          "height": 369
        },
        "id": "IpTed7Ny5Jlj",
        "outputId": "003194ab-e62f-4a21-dbb8-2b372c9aafdf"
      },
      "source": [
        "playstore_df = raw_df.groupby(['Category', 'Size', 'Type'])['Rating'].mean().reset_index()\n",
        "\n",
        "# Create a histogram of all ratings to get a visual sense of how the ratings are disributed.\n",
        "\n",
        "sns.set_style('whitegrid')\n",
        "ax = sns.displot(playstore_df['Rating'], bins = 20)"
      ],
      "execution_count": null,
      "outputs": [
        {
          "output_type": "display_data",
          "data": {
            "image/png": "[encoded data removed]",
            "text/plain": [
              "<Figure size 360x360 with 1 Axes>"
            ]
          },
          "metadata": {
            "tags": []
          }
        }
      ]
    },
    {
      "cell_type": "code",
      "metadata": {
        "colab": {
          "base_uri": "https://localhost:8080/"
        },
        "id": "hjOrWyo26Hbg",
        "outputId": "6a5a04df-7584-43ff-932a-98a4605265ed"
      },
      "source": [
        "playstore_df['Rating'].describe()"
      ],
      "execution_count": null,
      "outputs": [
        {
          "output_type": "execute_result",
          "data": {
            "text/plain": [
              "count    3116.000000\n",
              "mean        4.148079\n",
              "std         0.507124\n",
              "min         1.000000\n",
              "25%         3.980000\n",
              "50%         4.233333\n",
              "75%         4.466667\n",
              "max         5.000000\n",
              "Name: Rating, dtype: float64"
            ]
          },
          "metadata": {
            "tags": []
          },
          "execution_count": 3
        }
      ]
    },
    {
      "cell_type": "markdown",
      "metadata": {
        "id": "_aMcN_BWmGNp"
      },
      "source": [
        "The statistical summary supports what the above historgram illustrates in that the average of all ratings is 4.15."
      ]
    },
    {
      "cell_type": "code",
      "metadata": {
        "colab": {
          "base_uri": "https://localhost:8080/"
        },
        "id": "wTCsJowrGqud",
        "outputId": "c9d2d354-0894-4477-d3ca-128adf89b8b7"
      },
      "source": [
        "playstore_df.info()"
      ],
      "execution_count": null,
      "outputs": [
        {
          "output_type": "stream",
          "text": [
            "<class 'pandas.core.frame.DataFrame'>\n",
            "RangeIndex: 3493 entries, 0 to 3492\n",
            "Data columns (total 4 columns):\n",
            " #   Column    Non-Null Count  Dtype  \n",
            "---  ------    --------------  -----  \n",
            " 0   Category  3493 non-null   object \n",
            " 1   Size      3493 non-null   object \n",
            " 2   Type      3493 non-null   object \n",
            " 3   Rating    3116 non-null   float64\n",
            "dtypes: float64(1), object(3)\n",
            "memory usage: 109.3+ KB\n"
          ],
          "name": "stdout"
        }
      ]
    },
    {
      "cell_type": "markdown",
      "metadata": {
        "id": "fwuHuFCMmhN7"
      },
      "source": [
        "There are 3,493 total rows, but only 3,116 valid ratings are present, so I will need to purge the 377 rows with a null value for a rating by using the .dropna() function. I am renaming the cleaned dataframe to call upon for all testing later."
      ]
    },
    {
      "cell_type": "code",
      "metadata": {
        "colab": {
          "base_uri": "https://localhost:8080/"
        },
        "id": "idltb9CfKONW",
        "outputId": "bb182bcb-b645-4a1e-edd0-d5151470dc1d"
      },
      "source": [
        "print(playstore_df.size)\n",
        "clean_playstore = playstore_df.dropna()\n",
        "print(clean_playstore.size)"
      ],
      "execution_count": null,
      "outputs": [
        {
          "output_type": "stream",
          "text": [
            "13972\n",
            "12464\n"
          ],
          "name": "stdout"
        }
      ]
    },
    {
      "cell_type": "code",
      "metadata": {
        "colab": {
          "base_uri": "https://localhost:8080/"
        },
        "id": "hjHeU932Mrwg",
        "outputId": "90aaeae6-2fce-439f-ac95-385611a0961d"
      },
      "source": [
        "# The dataframe has been purged of all null values. \n",
        "\n",
        "clean_playstore.info()"
      ],
      "execution_count": null,
      "outputs": [
        {
          "output_type": "stream",
          "text": [
            "<class 'pandas.core.frame.DataFrame'>\n",
            "Int64Index: 3116 entries, 0 to 3492\n",
            "Data columns (total 4 columns):\n",
            " #   Column    Non-Null Count  Dtype  \n",
            "---  ------    --------------  -----  \n",
            " 0   Category  3116 non-null   object \n",
            " 1   Size      3116 non-null   object \n",
            " 2   Type      3116 non-null   object \n",
            " 3   Rating    3116 non-null   float64\n",
            "dtypes: float64(1), object(3)\n",
            "memory usage: 121.7+ KB\n"
          ],
          "name": "stdout"
        }
      ]
    },
    {
      "cell_type": "markdown",
      "metadata": {
        "id": "A1eyRYCfnp6l"
      },
      "source": [
        "First we will test app categories for statistical significance in ratings. \n",
        "\n",
        "$H_ø$ : There is no statistical significance in ratings of the five most common app categories.\n",
        "\n",
        "$H_a$ : There is statistical significance in the ratings of the five most common app categories."
      ]
    },
    {
      "cell_type": "code",
      "metadata": {
        "colab": {
          "base_uri": "https://localhost:8080/"
        },
        "id": "mwwG83J7FEkD",
        "outputId": "7dc57d93-ff67-4282-aa02-5f05007dc48b"
      },
      "source": [
        "print('There are {} unique categories.'.format(clean_playstore['Category'].nunique()))"
      ],
      "execution_count": null,
      "outputs": [
        {
          "output_type": "stream",
          "text": [
            "There are 33 unique categories.\n"
          ],
          "name": "stdout"
        }
      ]
    },
    {
      "cell_type": "code",
      "metadata": {
        "colab": {
          "base_uri": "https://localhost:8080/"
        },
        "id": "GE7Edz6sRSdF",
        "outputId": "3acb45f5-e3bd-4b37-f563-5c0577f55273"
      },
      "source": [
        "category_counts = clean_playstore['Category'].value_counts()\n",
        "category_counts.head()"
      ],
      "execution_count": null,
      "outputs": [
        {
          "output_type": "execute_result",
          "data": {
            "text/plain": [
              "FAMILY             285\n",
              "TOOLS              215\n",
              "GAME               197\n",
              "PERSONALIZATION    158\n",
              "MEDICAL            152\n",
              "Name: Category, dtype: int64"
            ]
          },
          "metadata": {
            "tags": []
          },
          "execution_count": 8
        }
      ]
    },
    {
      "cell_type": "markdown",
      "metadata": {
        "id": "TU2AP2YGqBDC"
      },
      "source": [
        "The above `category_counts` variable reveals the five most common app categories out of 33 that have been reviewed in the Play Store. We will bucket those five categories into another variable named `top_5_categories`, and group all other categories outside the top five into their own bucket named `else_categories`. "
      ]
    },
    {
      "cell_type": "code",
      "metadata": {
        "colab": {
          "base_uri": "https://localhost:8080/"
        },
        "id": "eLM7L6rYTUX1",
        "outputId": "e319bf64-f407-459d-96d2-4e79bf542f0c"
      },
      "source": [
        "top_5_categories = clean_playstore.loc[clean_playstore['Category'].isin(['FAMILY', 'TOOLS', 'GAME', 'PERSONALIZATION', 'MEDICAL'])]\n",
        "top_5_categories.info()"
      ],
      "execution_count": null,
      "outputs": [
        {
          "output_type": "stream",
          "text": [
            "<class 'pandas.core.frame.DataFrame'>\n",
            "Int64Index: 1007 entries, 801 to 3272\n",
            "Data columns (total 4 columns):\n",
            " #   Column    Non-Null Count  Dtype  \n",
            "---  ------    --------------  -----  \n",
            " 0   Category  1007 non-null   object \n",
            " 1   Size      1007 non-null   object \n",
            " 2   Type      1007 non-null   object \n",
            " 3   Rating    1007 non-null   float64\n",
            "dtypes: float64(1), object(3)\n",
            "memory usage: 39.3+ KB\n"
          ],
          "name": "stdout"
        }
      ]
    },
    {
      "cell_type": "code",
      "metadata": {
        "colab": {
          "base_uri": "https://localhost:8080/"
        },
        "id": "xxgLbrEBdPCk",
        "outputId": "bcdfb0ac-fdf0-4978-bb4f-41c9bfbbdaa6"
      },
      "source": [
        "else_categories = clean_playstore.loc[~clean_playstore['Category'].isin(['FAMILY', 'TOOLS', 'GAME', 'PERSONALIZATION', 'MEDICAL'])]\n",
        "else_categories.info()"
      ],
      "execution_count": null,
      "outputs": [
        {
          "output_type": "stream",
          "text": [
            "<class 'pandas.core.frame.DataFrame'>\n",
            "Int64Index: 2109 entries, 0 to 3492\n",
            "Data columns (total 4 columns):\n",
            " #   Column    Non-Null Count  Dtype  \n",
            "---  ------    --------------  -----  \n",
            " 0   Category  2109 non-null   object \n",
            " 1   Size      2109 non-null   object \n",
            " 2   Type      2109 non-null   object \n",
            " 3   Rating    2109 non-null   float64\n",
            "dtypes: float64(1), object(3)\n",
            "memory usage: 82.4+ KB\n"
          ],
          "name": "stdout"
        }
      ]
    },
    {
      "cell_type": "code",
      "metadata": {
        "id": "lVznjEj_Nu_A"
      },
      "source": [
        "# Creating a function that can be used to determine the mean ratings of each bucket.\n",
        "\n",
        "def avg_rating(array_1, array_2):\n",
        "  avg_1 = array_1.mean()\n",
        "  avg_2 = array_2.mean()\n",
        "  return('The average rating score for the treatment group is ' + str(avg_1) + ', and the control group is ' + str(avg_2) + '.')"
      ],
      "execution_count": null,
      "outputs": []
    },
    {
      "cell_type": "code",
      "metadata": {
        "colab": {
          "base_uri": "https://localhost:8080/",
          "height": 35
        },
        "id": "RvQxPTO6N33b",
        "outputId": "16315737-e605-4cbd-f36f-8d7634860874"
      },
      "source": [
        "avg_rating(top_5_categories['Rating'], else_categories['Rating'])"
      ],
      "execution_count": null,
      "outputs": [
        {
          "output_type": "execute_result",
          "data": {
            "application/vnd.google.colaboratory.intrinsic+json": {
              "type": "string"
            },
            "text/plain": [
              "'The average rating score for the treatment group is 4.169606675451918, and the control group is 4.137799796352423.'"
            ]
          },
          "metadata": {
            "tags": []
          },
          "execution_count": 12
        }
      ]
    },
    {
      "cell_type": "markdown",
      "metadata": {
        "id": "Z3hH5qHzsBcQ"
      },
      "source": [
        "Calling upon the `avg_rating` function. The average rating of apps in the top five categories is 4.17 and all others are 4.14. At just 0.03 higher than apps outside the top five, the difference in negligible. However, now we must test for statistical significance so we can either reject or accept the null hyposthesis."
      ]
    },
    {
      "cell_type": "code",
      "metadata": {
        "colab": {
          "base_uri": "https://localhost:8080/"
        },
        "id": "f3h49vI_drz5",
        "outputId": "156332b6-1779-49f7-b09e-482add5b0c18"
      },
      "source": [
        "stats.ttest_ind(top_5_categories['Rating'], else_categories['Rating'])"
      ],
      "execution_count": null,
      "outputs": [
        {
          "output_type": "execute_result",
          "data": {
            "text/plain": [
              "Ttest_indResult(statistic=1.6378653762419007, pvalue=0.10155081246090494)"
            ]
          },
          "metadata": {
            "tags": []
          },
          "execution_count": 13
        }
      ]
    },
    {
      "cell_type": "markdown",
      "metadata": {
        "id": "EflNCLB6syLd"
      },
      "source": [
        "With a p-value of 0.1, we must accept the null that there is no statistically significant difference in the average ratings between the top five most common app categories and all others that fall outside."
      ]
    },
    {
      "cell_type": "code",
      "metadata": {
        "id": "hmxBUFNWewcM"
      },
      "source": [
        "# Creating a definition that will be used to define the confidence intervals. It will be called upon for all future hypotheses as well.\n",
        "\n",
        "def get_95_ci(array_1, array_2):\n",
        "  sample_1_n = array_1.shape[0]\n",
        "  sample_2_n = array_2.shape[0]\n",
        "  sample_1_mean = array_1.mean()\n",
        "  sample_2_mean = array_2.mean()\n",
        "  sample_1_var = array_1.var()\n",
        "  sample_2_var = array_2.var()\n",
        "  mean_difference = sample_2_mean - sample_1_mean\n",
        "  std_err_difference = math.sqrt((sample_1_var/sample_1_n)+(sample_2_var/sample_2_n))\n",
        "  margin_of_error = 1.96 * std_err_difference\n",
        "  ci_lower = mean_difference - margin_of_error\n",
        "  ci_upper = mean_difference + margin_of_error\n",
        "  return('The difference in means at the 95% confidence interval (two-tail) is between ' + str(ci_lower) + ' and ' + str(ci_upper) + '.')"
      ],
      "execution_count": null,
      "outputs": []
    },
    {
      "cell_type": "code",
      "metadata": {
        "colab": {
          "base_uri": "https://localhost:8080/",
          "height": 35
        },
        "id": "vetBjNgah-97",
        "outputId": "b2bab8ff-0f45-447d-dbc9-3652e2bf111d"
      },
      "source": [
        "get_95_ci(top_5_categories['Rating'], else_categories['Rating'])"
      ],
      "execution_count": null,
      "outputs": [
        {
          "output_type": "execute_result",
          "data": {
            "application/vnd.google.colaboratory.intrinsic+json": {
              "type": "string"
            },
            "text/plain": [
              "'The difference in means at the 95% confidence interval (two-tail) is between -0.068654076474871 and 0.005040318275881042.'"
            ]
          },
          "metadata": {
            "tags": []
          },
          "execution_count": 15
        }
      ]
    },
    {
      "cell_type": "markdown",
      "metadata": {
        "id": "V080v8O1tTgP"
      },
      "source": [
        "Calling upon the `get_95_ci` function, we can determine that the difference is not significant at the <0.05 level. With 95% confidence, the difference is between -0.069 and 0.005.\n",
        "\n"
      ]
    },
    {
      "cell_type": "markdown",
      "metadata": {
        "id": "DyR_ZuN7t1lR"
      },
      "source": [
        "Next, we will test app sizes for statistical significance in ratings. \n",
        "\n",
        "$H_ø$ : There is no statistical significance in ratings of apps with the most common app sizes.\n",
        "\n",
        "$H_a$ : There is statistical significance in ratings of apps with the most common app sizes."
      ]
    },
    {
      "cell_type": "code",
      "metadata": {
        "colab": {
          "base_uri": "https://localhost:8080/"
        },
        "id": "M1tz5p7zR19k",
        "outputId": "20d24fef-a48d-48e7-8077-bd0e6c79e6fb"
      },
      "source": [
        "print('There are {} unique app sizes.'.format(clean_playstore['Size'].nunique()))"
      ],
      "execution_count": null,
      "outputs": [
        {
          "output_type": "stream",
          "text": [
            "There are 413 unique app sizes.\n"
          ],
          "name": "stdout"
        }
      ]
    },
    {
      "cell_type": "code",
      "metadata": {
        "colab": {
          "base_uri": "https://localhost:8080/"
        },
        "id": "5S-YmKeiFfw_",
        "outputId": "97e158c9-0878-46af-bf7f-dbe52834d9c8"
      },
      "source": [
        "# These are the top 10 app sizes that are most common.\n",
        "\n",
        "size_counts = clean_playstore['Size'].value_counts()\n",
        "size_counts.head(10)"
      ],
      "execution_count": null,
      "outputs": [
        {
          "output_type": "execute_result",
          "data": {
            "text/plain": [
              "11M    37\n",
              "12M    36\n",
              "15M    35\n",
              "14M    33\n",
              "20M    32\n",
              "24M    32\n",
              "18M    32\n",
              "21M    32\n",
              "19M    32\n",
              "22M    31\n",
              "Name: Size, dtype: int64"
            ]
          },
          "metadata": {
            "tags": []
          },
          "execution_count": 17
        }
      ]
    },
    {
      "cell_type": "markdown",
      "metadata": {
        "id": "C4AbiaeeuOBu"
      },
      "source": [
        "The above `size_counts` variable reveals the ten most common app sizes out of 413 that have been reviewed in the Play Store. We will bucket those ten sizes into another variable named `top_10_sizes`, and group all other sizes outside the top ten into their own bucket named `else_sizes`. "
      ]
    },
    {
      "cell_type": "code",
      "metadata": {
        "colab": {
          "base_uri": "https://localhost:8080/"
        },
        "id": "tqxSEg5ol29N",
        "outputId": "994b4720-8cd8-481a-bd0a-4057c4781e78"
      },
      "source": [
        "top_10_sizes = clean_playstore.loc[clean_playstore['Size'].isin(['11M', '12M', '15M', '14M', '18M', '19M', '21M', '20M', '24M', '23M'])]\n",
        "top_10_sizes.info()"
      ],
      "execution_count": null,
      "outputs": [
        {
          "output_type": "stream",
          "text": [
            "<class 'pandas.core.frame.DataFrame'>\n",
            "Int64Index: 332 entries, 3 to 3464\n",
            "Data columns (total 4 columns):\n",
            " #   Column    Non-Null Count  Dtype  \n",
            "---  ------    --------------  -----  \n",
            " 0   Category  332 non-null    object \n",
            " 1   Size      332 non-null    object \n",
            " 2   Type      332 non-null    object \n",
            " 3   Rating    332 non-null    float64\n",
            "dtypes: float64(1), object(3)\n",
            "memory usage: 13.0+ KB\n"
          ],
          "name": "stdout"
        }
      ]
    },
    {
      "cell_type": "code",
      "metadata": {
        "colab": {
          "base_uri": "https://localhost:8080/"
        },
        "id": "G29RLMBfmiK9",
        "outputId": "d8c44546-8c28-49f5-8796-9aeab941f8cd"
      },
      "source": [
        "else_sizes = clean_playstore.loc[~clean_playstore['Size'].isin(['11M', '12M', '15M', '14M', '18M', '19M', '21M', '20M', '24M', '23M'])]\n",
        "else_sizes.info()"
      ],
      "execution_count": null,
      "outputs": [
        {
          "output_type": "stream",
          "text": [
            "<class 'pandas.core.frame.DataFrame'>\n",
            "Int64Index: 2784 entries, 0 to 3492\n",
            "Data columns (total 4 columns):\n",
            " #   Column    Non-Null Count  Dtype  \n",
            "---  ------    --------------  -----  \n",
            " 0   Category  2784 non-null   object \n",
            " 1   Size      2784 non-null   object \n",
            " 2   Type      2784 non-null   object \n",
            " 3   Rating    2784 non-null   float64\n",
            "dtypes: float64(1), object(3)\n",
            "memory usage: 108.8+ KB\n"
          ],
          "name": "stdout"
        }
      ]
    },
    {
      "cell_type": "code",
      "metadata": {
        "colab": {
          "base_uri": "https://localhost:8080/",
          "height": 35
        },
        "id": "nIkOzICSQ4AF",
        "outputId": "a59f202b-484e-4085-cfe3-6117e1f8c463"
      },
      "source": [
        "avg_rating(top_10_sizes['Rating'], else_sizes['Rating'])"
      ],
      "execution_count": null,
      "outputs": [
        {
          "output_type": "execute_result",
          "data": {
            "application/vnd.google.colaboratory.intrinsic+json": {
              "type": "string"
            },
            "text/plain": [
              "'The average rating score for the treatment group is 4.1910945434376625, and the control group is 4.1429491035438355.'"
            ]
          },
          "metadata": {
            "tags": []
          },
          "execution_count": 20
        }
      ]
    },
    {
      "cell_type": "markdown",
      "metadata": {
        "id": "wmQq3norvaLE"
      },
      "source": [
        "Calling upon the `avg_rating` function. The average rating of apps in the top 10 most common file sizes is 4.19 and all others are 4.14. Much like our testing of the app categories, our difference in means is quite small at 0.05. However small, we must still test for statistical significance in the average ratings."
      ]
    },
    {
      "cell_type": "code",
      "metadata": {
        "colab": {
          "base_uri": "https://localhost:8080/"
        },
        "id": "7Dv2A1tXnAZc",
        "outputId": "8e57f5d9-646f-4f78-c9b4-0bf130c16c21"
      },
      "source": [
        "stats.ttest_ind(top_10_sizes['Rating'], else_sizes['Rating'])"
      ],
      "execution_count": null,
      "outputs": [
        {
          "output_type": "execute_result",
          "data": {
            "text/plain": [
              "Ttest_indResult(statistic=1.635544655114245, pvalue=0.1020359857738854)"
            ]
          },
          "metadata": {
            "tags": []
          },
          "execution_count": 21
        }
      ]
    },
    {
      "cell_type": "code",
      "metadata": {
        "colab": {
          "base_uri": "https://localhost:8080/",
          "height": 35
        },
        "id": "9GbdbDmmnMcm",
        "outputId": "a886ed5c-0502-4a7e-ff67-b1fa66d9424a"
      },
      "source": [
        "get_95_ci(top_10_sizes['Rating'], else_sizes['Rating'])"
      ],
      "execution_count": null,
      "outputs": [
        {
          "output_type": "execute_result",
          "data": {
            "application/vnd.google.colaboratory.intrinsic+json": {
              "type": "string"
            },
            "text/plain": [
              "'The difference in means at the 95% confidence interval (two-tail) is between -0.09655625902512535 and 0.00026537923747130265.'"
            ]
          },
          "metadata": {
            "tags": []
          },
          "execution_count": 22
        }
      ]
    },
    {
      "cell_type": "markdown",
      "metadata": {
        "id": "AJwon5Q7v-rL"
      },
      "source": [
        "Again, we must accept the null that there is no significant difference in the average ratings of app sizes that fall within the ten most common sizes and all others.\n",
        "\n",
        "Calling upon the `get_95_ci` function, we can determine that the difference is significant at the <0.05 level. With 95% confidence, the difference is between -0.097 and 0.003."
      ]
    },
    {
      "cell_type": "markdown",
      "metadata": {
        "id": "3kyGIDIsxN2I"
      },
      "source": [
        "Last up, we will test free vs. paid apps for statistical significance in ratings. \n",
        "\n",
        "$H_ø$ : There is no statistical significance in ratings of free apps and paid apps.\n",
        "\n",
        "$H_a$ : There is statistical significance in ratings of free apps and paid apps."
      ]
    },
    {
      "cell_type": "code",
      "metadata": {
        "colab": {
          "base_uri": "https://localhost:8080/"
        },
        "id": "xhMjTet9Ggbn",
        "outputId": "145c0223-8def-4adc-83e2-03febde47871"
      },
      "source": [
        "type_counts = clean_playstore['Type'].value_counts()\n",
        "type_counts"
      ],
      "execution_count": null,
      "outputs": [
        {
          "output_type": "execute_result",
          "data": {
            "text/plain": [
              "Free    2687\n",
              "Paid     429\n",
              "Name: Type, dtype: int64"
            ]
          },
          "metadata": {
            "tags": []
          },
          "execution_count": 23
        }
      ]
    },
    {
      "cell_type": "markdown",
      "metadata": {
        "id": "0Jlr3XMux1Dd"
      },
      "source": [
        "There are only two possible values in the Type column, them being Free or Paid. We will place all free apps in a variable called `free_apps` and paid apps is another appropriately named variable, `paid_apps`. "
      ]
    },
    {
      "cell_type": "code",
      "metadata": {
        "colab": {
          "base_uri": "https://localhost:8080/"
        },
        "id": "-RLRMl13ObZ6",
        "outputId": "55f6ba2a-f60f-4f5b-eadb-01f66540577f"
      },
      "source": [
        "free_apps = clean_playstore.loc[clean_playstore['Type'] == 'Free']\n",
        "free_apps.info()"
      ],
      "execution_count": null,
      "outputs": [
        {
          "output_type": "stream",
          "text": [
            "<class 'pandas.core.frame.DataFrame'>\n",
            "Int64Index: 2687 entries, 0 to 3492\n",
            "Data columns (total 4 columns):\n",
            " #   Column    Non-Null Count  Dtype  \n",
            "---  ------    --------------  -----  \n",
            " 0   Category  2687 non-null   object \n",
            " 1   Size      2687 non-null   object \n",
            " 2   Type      2687 non-null   object \n",
            " 3   Rating    2687 non-null   float64\n",
            "dtypes: float64(1), object(3)\n",
            "memory usage: 105.0+ KB\n"
          ],
          "name": "stdout"
        }
      ]
    },
    {
      "cell_type": "code",
      "metadata": {
        "colab": {
          "base_uri": "https://localhost:8080/"
        },
        "id": "WoZcotd6nutP",
        "outputId": "7ffe3883-19b6-499e-b0ff-84a2a03cf639"
      },
      "source": [
        "paid_apps = clean_playstore.loc[clean_playstore['Type'] == 'Paid']\n",
        "paid_apps.info()"
      ],
      "execution_count": null,
      "outputs": [
        {
          "output_type": "stream",
          "text": [
            "<class 'pandas.core.frame.DataFrame'>\n",
            "Int64Index: 429 entries, 21 to 3489\n",
            "Data columns (total 4 columns):\n",
            " #   Column    Non-Null Count  Dtype  \n",
            "---  ------    --------------  -----  \n",
            " 0   Category  429 non-null    object \n",
            " 1   Size      429 non-null    object \n",
            " 2   Type      429 non-null    object \n",
            " 3   Rating    429 non-null    float64\n",
            "dtypes: float64(1), object(3)\n",
            "memory usage: 16.8+ KB\n"
          ],
          "name": "stdout"
        }
      ]
    },
    {
      "cell_type": "code",
      "metadata": {
        "colab": {
          "base_uri": "https://localhost:8080/",
          "height": 35
        },
        "id": "T7iuYp4rRNvk",
        "outputId": "c4279fc6-dc12-498e-c66f-2885132bc850"
      },
      "source": [
        "avg_rating(free_apps['Rating'], paid_apps['Rating'])"
      ],
      "execution_count": null,
      "outputs": [
        {
          "output_type": "execute_result",
          "data": {
            "application/vnd.google.colaboratory.intrinsic+json": {
              "type": "string"
            },
            "text/plain": [
              "'The average rating score for the treatment group is 4.136915351630139, and the control group is 4.218000333000334.'"
            ]
          },
          "metadata": {
            "tags": []
          },
          "execution_count": 26
        }
      ]
    },
    {
      "cell_type": "markdown",
      "metadata": {
        "id": "iVDzceFCyaWk"
      },
      "source": [
        "Calling upon the `avg_rating` function to produce the ratings for each variable, we see that free apps have an average rating of 4.14 and paid apps have one of 4.22. This is interesting because I would figure that free apps would tend to have a higher average rating. Whatever the case may be, we will still need to test if this difference is significant. "
      ]
    },
    {
      "cell_type": "code",
      "metadata": {
        "colab": {
          "base_uri": "https://localhost:8080/"
        },
        "id": "lqkmtgZ2nzkC",
        "outputId": "aab45afb-98df-4b01-99a5-07666abb0dbb"
      },
      "source": [
        "# Reject the null that there is not a difference in ratings between free apps and paid apps.\n",
        "\n",
        "stats.ttest_ind(free_apps['Rating'], paid_apps['Rating'])"
      ],
      "execution_count": null,
      "outputs": [
        {
          "output_type": "execute_result",
          "data": {
            "text/plain": [
              "Ttest_indResult(statistic=-3.0795008411714644, pvalue=0.0020915622039028793)"
            ]
          },
          "metadata": {
            "tags": []
          },
          "execution_count": 27
        }
      ]
    },
    {
      "cell_type": "code",
      "metadata": {
        "colab": {
          "base_uri": "https://localhost:8080/",
          "height": 35
        },
        "id": "0RVolFC2n-Kk",
        "outputId": "4e0e9960-7090-4c1e-e544-369e04fd9412"
      },
      "source": [
        "# Call the get_95_ci definition created when testing the first null hypothesis.\n",
        "# The difference is significant at the <.05 level\n",
        "\n",
        "get_95_ci(free_apps['Rating'], paid_apps['Rating'])"
      ],
      "execution_count": null,
      "outputs": [
        {
          "output_type": "execute_result",
          "data": {
            "application/vnd.google.colaboratory.intrinsic+json": {
              "type": "string"
            },
            "text/plain": [
              "'The difference in means at the 95% confidence interval (two-tail) is between 0.024091080206150327 and 0.13807888253423886.'"
            ]
          },
          "metadata": {
            "tags": []
          },
          "execution_count": 28
        }
      ]
    },
    {
      "cell_type": "markdown",
      "metadata": {
        "id": "Ud_UzCRUy5Sn"
      },
      "source": [
        "We can reject the null that there is no significant difference between the average ratings of free apps and paid apps with a p-value of 0.002.\n",
        "\n",
        "Calling upon the `get_95_ci` function, we can determine that the difference is significant at the <0.05 level. With 95% confidence, the difference is between 0.024 and 0.138."
      ]
    },
    {
      "cell_type": "markdown",
      "metadata": {
        "id": "Fmw87ef8zNA4"
      },
      "source": [
        "# What did we learn?\n",
        "\n",
        "Of the three characteristics that we tested for a significant difference in average rating, we can determine that only one of three were significant in their higher average ratings.\n",
        "\n",
        "* The five most common app categories in Family, Tools, Games, Personalization, and Medical on average have a higher rating of 0.03, but is not statistically significant.\n",
        "\n",
        "* The ten most common app sizes in 11mb, 12mb, 14mb, 15mb, 18mb, 19mb, 20mb, 21mb, 22mb, and 24mb on average have a higher rating of 0.05, but is not statistically significant.\n",
        "\n",
        "* Paid apps on average have a higher rating than free apps by 0.08, and is statistically significant."
      ]
    },
    {
      "cell_type": "markdown",
      "metadata": {
        "id": "505LERJQ2IVU"
      },
      "source": [
        "# How to use this information\n",
        "\n",
        "Between both app categories and app sizes, there is such a vast pool of possibilities that can produce very different results. While we determined earlier on that the difference in their average ratings were not significant, they are quite small to the point where the difference is negligible anyways.\n",
        "\n",
        "It gets interesting when we look at free and paid apps. I think the key takeaway here is not to inherently charge for an app just to charge for it. It should be that you should not immediately dismiss the idea of charging for it because as the data tells us, paid apps yielded more positive reviews despite requiring payment to install."
      ]
    }
  ]
}